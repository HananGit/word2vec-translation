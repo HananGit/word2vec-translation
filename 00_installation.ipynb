{
 "cells": [
  {
   "cell_type": "code",
   "execution_count": null,
   "metadata": {
    "slideshow": {
     "slide_type": "skip"
    }
   },
   "outputs": [],
   "source": [
    "from notebook.services.config import ConfigManager\n",
    "cm = ConfigManager()\n",
    "cm.update('livereveal', {\n",
    "    'width': 1280,\n",
    "    'height': 800,\n",
    "    'scroll': True\n",
    "})"
   ]
  },
  {
   "cell_type": "markdown",
   "metadata": {
    "slideshow": {
     "slide_type": "slide"
    }
   },
   "source": [
    "## Install `requirements.txt`"
   ]
  },
  {
   "cell_type": "code",
   "execution_count": 4,
   "metadata": {
    "ExecuteTime": {
     "end_time": "2018-05-01T04:35:10.686931Z",
     "start_time": "2018-05-01T04:30:32.343357Z"
    },
    "scrolled": true,
    "slideshow": {
     "slide_type": "fragment"
    }
   },
   "outputs": [
    {
     "name": "stdout",
     "output_type": "stream",
     "text": [
      "Collecting https://github.com/explosion/spacy-models/releases/download/en_core_web_sm-2.0.0/en_core_web_sm-2.0.0.tar.gz (from -r requirements.txt (line 111))\n",
      "\u001b[?25l  Downloading https://github.com/explosion/spacy-models/releases/download/en_core_web_sm-2.0.0/en_core_web_sm-2.0.0.tar.gz (37.4MB)\n",
      "\u001b[K    100% |████████████████████████████████| 37.4MB 948kB/s eta 0:00:01\n",
      "\u001b[?25hCollecting https://github.com/explosion/spacy-models/releases/download/es_core_news_sm-2.0.0/es_core_news_sm-2.0.0.tar.gz (from -r requirements.txt (line 112))\n",
      "\u001b[?25l  Downloading https://github.com/explosion/spacy-models/releases/download/es_core_news_sm-2.0.0/es_core_news_sm-2.0.0.tar.gz (36.7MB)\n",
      "\u001b[K    100% |████████████████████████████████| 36.7MB 759kB/s eta 0:00:01\n",
      "\u001b[?25hRequirement already satisfied: absl-py==0.1.13 in /Users/Stefan/.virtualenvs/word2vec-translate/lib/python3.6/site-packages (from -r requirements.txt (line 1)) (0.1.13)\n",
      "Requirement already satisfied: astor==0.6.2 in /Users/Stefan/.virtualenvs/word2vec-translate/lib/python3.6/site-packages (from -r requirements.txt (line 2)) (0.6.2)\n",
      "Requirement already satisfied: autopep8==1.3.5 in /Users/Stefan/.virtualenvs/word2vec-translate/lib/python3.6/site-packages (from -r requirements.txt (line 3)) (1.3.5)\n",
      "Requirement already satisfied: backcall==0.1.0 in /Users/Stefan/.virtualenvs/word2vec-translate/lib/python3.6/site-packages (from -r requirements.txt (line 4)) (0.1.0)\n",
      "Requirement already satisfied: bleach==1.5.0 in /Users/Stefan/.virtualenvs/word2vec-translate/lib/python3.6/site-packages (from -r requirements.txt (line 5)) (1.5.0)\n",
      "Collecting boto==2.48.0 (from -r requirements.txt (line 6))\n",
      "  Using cached https://files.pythonhosted.org/packages/bd/b7/a88a67002b1185ed9a8e8a6ef15266728c2361fcb4f1d02ea331e4c7741d/boto-2.48.0-py2.py3-none-any.whl\n",
      "Collecting boto3==1.7.4 (from -r requirements.txt (line 7))\n",
      "  Using cached https://files.pythonhosted.org/packages/a1/7e/373191234629708d2f6ef3a7c7a2ba72c4d77aab0745668a250527d6d3a2/boto3-1.7.4-py2.py3-none-any.whl\n",
      "Collecting botocore==1.10.4 (from -r requirements.txt (line 8))\n",
      "  Using cached https://files.pythonhosted.org/packages/22/66/9dcf61c1756a0de1ac86547a0fdb8c8641e345049cbf6f18c2ad6dab69d0/botocore-1.10.4-py2.py3-none-any.whl\n",
      "Collecting bz2file==0.98 (from -r requirements.txt (line 9))\n",
      "  Using cached https://files.pythonhosted.org/packages/61/39/122222b5e85cd41c391b68a99ee296584b2a2d1d233e7ee32b4532384f2d/bz2file-0.98.tar.gz\n",
      "Collecting cachetools==2.0.1 (from -r requirements.txt (line 10))\n",
      "  Using cached https://files.pythonhosted.org/packages/ac/e8/5492fd5ada0b05a1bc485bcb634b559acdec59383eef5c4203b5e22be296/cachetools-2.0.1-py2.py3-none-any.whl\n",
      "Collecting certifi==2018.4.16 (from -r requirements.txt (line 11))\n",
      "  Using cached https://files.pythonhosted.org/packages/7c/e6/92ad559b7192d846975fc916b65f667c7b8c3a32bea7372340bfe9a15fa5/certifi-2018.4.16-py2.py3-none-any.whl\n",
      "Collecting chardet==3.0.4 (from -r requirements.txt (line 12))\n",
      "  Using cached https://files.pythonhosted.org/packages/bc/a9/01ffebfb562e4274b6487b4bb1ddec7ca55ec7510b22e4c51f14098443b8/chardet-3.0.4-py2.py3-none-any.whl\n",
      "Requirement already satisfied: cycler==0.10.0 in /Users/Stefan/.virtualenvs/word2vec-translate/lib/python3.6/site-packages (from -r requirements.txt (line 13)) (0.10.0)\n",
      "Collecting cymem==1.31.2 (from -r requirements.txt (line 14))\n",
      "  Using cached https://files.pythonhosted.org/packages/f8/9e/273fbea507de99166c11cd0cb3fde1ac01b5bc724d9a407a2f927ede91a1/cymem-1.31.2.tar.gz\n",
      "Collecting Cython==0.28.2 (from -r requirements.txt (line 15))\n",
      "  Using cached https://files.pythonhosted.org/packages/1c/97/f96d3ad8f5365328c0d02090e95e2fcd499825d53947e88ce8e02104507d/Cython-0.28.2-cp36-cp36m-macosx_10_6_intel.macosx_10_9_intel.macosx_10_9_x86_64.macosx_10_10_intel.macosx_10_10_x86_64.whl\n",
      "Collecting cytoolz==0.8.2 (from -r requirements.txt (line 16))\n",
      "  Using cached https://files.pythonhosted.org/packages/0f/e6/ccc124714dcc1bd511e64ddafb4d5d20ada2533b92e3173a4cf09e0d0831/cytoolz-0.8.2.tar.gz\n",
      "Requirement already satisfied: decorator==4.3.0 in /Users/Stefan/.virtualenvs/word2vec-translate/lib/python3.6/site-packages (from -r requirements.txt (line 17)) (4.3.0)\n",
      "Collecting dill==0.2.7.1 (from -r requirements.txt (line 18))\n",
      "  Using cached https://files.pythonhosted.org/packages/91/a0/19d4d31dee064fc553ae01263b5c55e7fb93daff03a69debbedee647c5a0/dill-0.2.7.1.tar.gz\n",
      "Collecting docutils==0.14 (from -r requirements.txt (line 19))\n",
      "  Using cached https://files.pythonhosted.org/packages/36/fa/08e9e6e0e3cbd1d362c3bbee8d01d0aedb2155c4ac112b19ef3cae8eed8d/docutils-0.14-py3-none-any.whl\n",
      "Requirement already satisfied: entrypoints==0.2.3 in /Users/Stefan/.virtualenvs/word2vec-translate/lib/python3.6/site-packages (from -r requirements.txt (line 20)) (0.2.3)\n",
      "Requirement already satisfied: gast==0.2.0 in /Users/Stefan/.virtualenvs/word2vec-translate/lib/python3.6/site-packages (from -r requirements.txt (line 21)) (0.2.0)\n",
      "Collecting gensim==3.4.0 (from -r requirements.txt (line 22))\n",
      "  Using cached https://files.pythonhosted.org/packages/82/f2/c2f2c87ed72483fce010fbfea1a3adbd168c0f0dafc878cbfb5a76381b03/gensim-3.4.0-cp36-cp36m-macosx_10_6_intel.macosx_10_9_intel.macosx_10_9_x86_64.macosx_10_10_intel.macosx_10_10_x86_64.whl\n",
      "Requirement already satisfied: grpcio==1.11.0 in /Users/Stefan/.virtualenvs/word2vec-translate/lib/python3.6/site-packages (from -r requirements.txt (line 23)) (1.11.0)\n",
      "Collecting h5py==2.7.1 (from -r requirements.txt (line 24))\n",
      "\u001b[?25l  Downloading https://files.pythonhosted.org/packages/69/d5/dff2a8f7658fd87ab3330a0ab47e4363681d8bdf734a495add65a347f5e3/h5py-2.7.1-cp36-cp36m-macosx_10_6_intel.macosx_10_9_intel.macosx_10_9_x86_64.macosx_10_10_intel.macosx_10_10_x86_64.whl (4.7MB)\n",
      "\u001b[K    100% |████████████████████████████████| 4.8MB 6.5MB/s eta 0:00:01\n",
      "\u001b[?25hRequirement already satisfied: html5lib==0.9999999 in /Users/Stefan/.virtualenvs/word2vec-translate/lib/python3.6/site-packages (from -r requirements.txt (line 25)) (0.9999999)\n",
      "Collecting idna==2.6 (from -r requirements.txt (line 26))\n",
      "  Using cached https://files.pythonhosted.org/packages/27/cc/6dd9a3869f15c2edfab863b992838277279ce92663d334df9ecf5106f5c6/idna-2.6-py2.py3-none-any.whl\n",
      "Requirement already satisfied: ipykernel==4.8.2 in /Users/Stefan/.virtualenvs/word2vec-translate/lib/python3.6/site-packages (from -r requirements.txt (line 27)) (4.8.2)\n",
      "Requirement already satisfied: ipython==6.3.1 in /Users/Stefan/.virtualenvs/word2vec-translate/lib/python3.6/site-packages (from -r requirements.txt (line 28)) (6.3.1)\n",
      "Requirement already satisfied: ipython-genutils==0.2.0 in /Users/Stefan/.virtualenvs/word2vec-translate/lib/python3.6/site-packages (from -r requirements.txt (line 29)) (0.2.0)\n",
      "Requirement already satisfied: ipywidgets==7.2.1 in /Users/Stefan/.virtualenvs/word2vec-translate/lib/python3.6/site-packages (from -r requirements.txt (line 30)) (7.2.1)\n",
      "Requirement already satisfied: jedi==0.12.0 in /Users/Stefan/.virtualenvs/word2vec-translate/lib/python3.6/site-packages (from -r requirements.txt (line 31)) (0.12.0)\n",
      "Requirement already satisfied: Jinja2==2.10 in /Users/Stefan/.virtualenvs/word2vec-translate/lib/python3.6/site-packages (from -r requirements.txt (line 32)) (2.10)\n",
      "Collecting jmespath==0.9.3 (from -r requirements.txt (line 33))\n",
      "  Using cached https://files.pythonhosted.org/packages/b7/31/05c8d001f7f87f0f07289a5fc0fc3832e9a57f2dbd4d3b0fee70e0d51365/jmespath-0.9.3-py2.py3-none-any.whl\n",
      "Requirement already satisfied: jsonschema==2.6.0 in /Users/Stefan/.virtualenvs/word2vec-translate/lib/python3.6/site-packages (from -r requirements.txt (line 34)) (2.6.0)\n",
      "Requirement already satisfied: jupyter==1.0.0 in /Users/Stefan/.virtualenvs/word2vec-translate/lib/python3.6/site-packages (from -r requirements.txt (line 35)) (1.0.0)\n",
      "Requirement already satisfied: jupyter-client==5.2.3 in /Users/Stefan/.virtualenvs/word2vec-translate/lib/python3.6/site-packages (from -r requirements.txt (line 36)) (5.2.3)\n",
      "Requirement already satisfied: jupyter-console==5.2.0 in /Users/Stefan/.virtualenvs/word2vec-translate/lib/python3.6/site-packages (from -r requirements.txt (line 37)) (5.2.0)\n",
      "Requirement already satisfied: jupyter-contrib-core==0.3.3 in /Users/Stefan/.virtualenvs/word2vec-translate/lib/python3.6/site-packages (from -r requirements.txt (line 38)) (0.3.3)\n",
      "Requirement already satisfied: jupyter-contrib-nbextensions==0.5.0 in /Users/Stefan/.virtualenvs/word2vec-translate/lib/python3.6/site-packages (from -r requirements.txt (line 39)) (0.5.0)\n"
     ]
    },
    {
     "name": "stdout",
     "output_type": "stream",
     "text": [
      "Requirement already satisfied: jupyter-core==4.4.0 in /Users/Stefan/.virtualenvs/word2vec-translate/lib/python3.6/site-packages (from -r requirements.txt (line 40)) (4.4.0)\n",
      "Requirement already satisfied: jupyter-highlight-selected-word==0.2.0 in /Users/Stefan/.virtualenvs/word2vec-translate/lib/python3.6/site-packages (from -r requirements.txt (line 41)) (0.2.0)\n",
      "Requirement already satisfied: jupyter-latex-envs==1.4.4 in /Users/Stefan/.virtualenvs/word2vec-translate/lib/python3.6/site-packages (from -r requirements.txt (line 42)) (1.4.4)\n",
      "Requirement already satisfied: jupyter-nbextensions-configurator==0.4.0 in /Users/Stefan/.virtualenvs/word2vec-translate/lib/python3.6/site-packages (from -r requirements.txt (line 43)) (0.4.0)\n",
      "Requirement already satisfied: Keras==2.1.5 in /Users/Stefan/.virtualenvs/word2vec-translate/lib/python3.6/site-packages (from -r requirements.txt (line 44)) (2.1.5)\n",
      "Requirement already satisfied: kiwisolver==1.0.1 in /Users/Stefan/.virtualenvs/word2vec-translate/lib/python3.6/site-packages (from -r requirements.txt (line 45)) (1.0.1)\n",
      "Requirement already satisfied: lxml==4.2.1 in /Users/Stefan/.virtualenvs/word2vec-translate/lib/python3.6/site-packages (from -r requirements.txt (line 46)) (4.2.1)\n",
      "Requirement already satisfied: Markdown==2.6.11 in /Users/Stefan/.virtualenvs/word2vec-translate/lib/python3.6/site-packages (from -r requirements.txt (line 47)) (2.6.11)\n",
      "Requirement already satisfied: MarkupSafe==1.0 in /Users/Stefan/.virtualenvs/word2vec-translate/lib/python3.6/site-packages (from -r requirements.txt (line 48)) (1.0)\n",
      "Requirement already satisfied: matplotlib==2.2.2 in /Users/Stefan/.virtualenvs/word2vec-translate/lib/python3.6/site-packages (from -r requirements.txt (line 49)) (2.2.2)\n",
      "Requirement already satisfied: mistune==0.8.3 in /Users/Stefan/.virtualenvs/word2vec-translate/lib/python3.6/site-packages (from -r requirements.txt (line 50)) (0.8.3)\n",
      "Collecting msgpack-numpy==0.4.1 (from -r requirements.txt (line 51))\n",
      "  Downloading https://files.pythonhosted.org/packages/2e/43/393e30e2768b0357541ac95891f96b80ccc4d517e0dd2fa3042fc8926538/msgpack_numpy-0.4.1-py2.py3-none-any.whl\n",
      "Collecting msgpack-python==0.5.6 (from -r requirements.txt (line 52))\n",
      "\u001b[?25l  Downloading https://files.pythonhosted.org/packages/8a/20/6eca772d1a5830336f84aca1d8198e5a3f4715cd1c7fc36d3cc7f7185091/msgpack-python-0.5.6.tar.gz (138kB)\n",
      "\u001b[K    100% |████████████████████████████████| 143kB 28.6MB/s ta 0:00:01\n",
      "\u001b[?25hCollecting murmurhash==0.28.0 (from -r requirements.txt (line 53))\n",
      "  Downloading https://files.pythonhosted.org/packages/5e/31/c8c1ecafa44db30579c8c457ac7a0f819e8b1dbc3e58308394fff5ff9ba7/murmurhash-0.28.0.tar.gz\n",
      "Requirement already satisfied: nbconvert==5.3.1 in /Users/Stefan/.virtualenvs/word2vec-translate/lib/python3.6/site-packages (from -r requirements.txt (line 54)) (5.3.1)\n",
      "Requirement already satisfied: nbformat==4.4.0 in /Users/Stefan/.virtualenvs/word2vec-translate/lib/python3.6/site-packages (from -r requirements.txt (line 55)) (4.4.0)\n",
      "Requirement already satisfied: notebook==5.4.1 in /Users/Stefan/.virtualenvs/word2vec-translate/lib/python3.6/site-packages (from -r requirements.txt (line 56)) (5.4.1)\n",
      "Collecting numexpr==2.6.4 (from -r requirements.txt (line 57))\n",
      "\u001b[?25l  Downloading https://files.pythonhosted.org/packages/8d/03/346eb973515782d21694aacdd91970e84242f9b68b54c511906dbb56cbc3/numexpr-2.6.4-cp36-cp36m-macosx_10_6_intel.macosx_10_9_intel.macosx_10_9_x86_64.macosx_10_10_intel.macosx_10_10_x86_64.whl (171kB)\n",
      "\u001b[K    100% |████████████████████████████████| 174kB 25.8MB/s ta 0:00:01\n",
      "\u001b[?25hRequirement already satisfied: numpy==1.14.2 in /Users/Stefan/.virtualenvs/word2vec-translate/lib/python3.6/site-packages (from -r requirements.txt (line 58)) (1.14.2)\n",
      "Requirement already satisfied: pandas==0.22.0 in /Users/Stefan/.virtualenvs/word2vec-translate/lib/python3.6/site-packages (from -r requirements.txt (line 59)) (0.22.0)\n",
      "Requirement already satisfied: pandocfilters==1.4.2 in /Users/Stefan/.virtualenvs/word2vec-translate/lib/python3.6/site-packages (from -r requirements.txt (line 60)) (1.4.2)\n",
      "Requirement already satisfied: parso==0.2.0 in /Users/Stefan/.virtualenvs/word2vec-translate/lib/python3.6/site-packages (from -r requirements.txt (line 61)) (0.2.0)\n",
      "Collecting pathlib==1.0.1 (from -r requirements.txt (line 62))\n",
      "\u001b[?25l  Downloading https://files.pythonhosted.org/packages/ac/aa/9b065a76b9af472437a0059f77e8f962fe350438b927cb80184c32f075eb/pathlib-1.0.1.tar.gz (49kB)\n",
      "\u001b[K    100% |████████████████████████████████| 51kB 20.3MB/s ta 0:00:01\n",
      "\u001b[?25hRequirement already satisfied: pexpect==4.5.0 in /Users/Stefan/.virtualenvs/word2vec-translate/lib/python3.6/site-packages (from -r requirements.txt (line 63)) (4.5.0)\n",
      "Requirement already satisfied: pickleshare==0.7.4 in /Users/Stefan/.virtualenvs/word2vec-translate/lib/python3.6/site-packages (from -r requirements.txt (line 64)) (0.7.4)\n",
      "Collecting plac==0.9.6 (from -r requirements.txt (line 65))\n",
      "  Downloading https://files.pythonhosted.org/packages/9e/9b/62c60d2f5bc135d2aa1d8c8a86aaf84edb719a59c7f11a4316259e61a298/plac-0.9.6-py2.py3-none-any.whl\n",
      "Collecting preshed==1.0.0 (from -r requirements.txt (line 66))\n",
      "\u001b[?25l  Downloading https://files.pythonhosted.org/packages/1b/ac/7c17b1fd54b60972785b646d37da2826311cca70842c011c4ff84fbe95e0/preshed-1.0.0.tar.gz (89kB)\n",
      "\u001b[K    100% |████████████████████████████████| 92kB 28.4MB/s ta 0:00:01\n",
      "\u001b[?25hRequirement already satisfied: prompt-toolkit==1.0.15 in /Users/Stefan/.virtualenvs/word2vec-translate/lib/python3.6/site-packages (from -r requirements.txt (line 67)) (1.0.15)\n",
      "Requirement already satisfied: protobuf==3.5.2.post1 in /Users/Stefan/.virtualenvs/word2vec-translate/lib/python3.6/site-packages (from -r requirements.txt (line 68)) (3.5.2.post1)\n",
      "Requirement already satisfied: ptyprocess==0.5.2 in /Users/Stefan/.virtualenvs/word2vec-translate/lib/python3.6/site-packages (from -r requirements.txt (line 69)) (0.5.2)\n",
      "Collecting pyasn1==0.4.2 (from -r requirements.txt (line 70))\n",
      "  Using cached https://files.pythonhosted.org/packages/ba/fe/02e3e2ee243966b143657fb8bd6bc97595841163b6d8c26820944acaec4d/pyasn1-0.4.2-py2.py3-none-any.whl\n",
      "Collecting pyasn1-modules==0.2.1 (from -r requirements.txt (line 71))\n",
      "\u001b[?25l  Downloading https://files.pythonhosted.org/packages/e9/51/bcd96bf6231d4b2cc5e023c511bee86637ba375c44a6f9d1b4b7ad1ce4b9/pyasn1_modules-0.2.1-py2.py3-none-any.whl (60kB)\n",
      "\u001b[K    100% |████████████████████████████████| 61kB 23.9MB/s ta 0:00:01\n",
      "\u001b[?25hCollecting pybind11==2.2.2 (from -r requirements.txt (line 72))\n",
      "\u001b[?25l  Downloading https://files.pythonhosted.org/packages/ff/3e/421f90f8d9e7fd43bd4e22781ad04d4ea3d6f4571b73c4e9dca29669a599/pybind11-2.2.2-py2.py3-none-any.whl (144kB)\n",
      "\u001b[K    100% |████████████████████████████████| 153kB 24.5MB/s ta 0:00:01\n",
      "\u001b[?25hRequirement already satisfied: pycodestyle==2.4.0 in /Users/Stefan/.virtualenvs/word2vec-translate/lib/python3.6/site-packages (from -r requirements.txt (line 73)) (2.4.0)\n",
      "Requirement already satisfied: Pygments==2.2.0 in /Users/Stefan/.virtualenvs/word2vec-translate/lib/python3.6/site-packages (from -r requirements.txt (line 74)) (2.2.0)\n",
      "Requirement already satisfied: pyparsing==2.2.0 in /Users/Stefan/.virtualenvs/word2vec-translate/lib/python3.6/site-packages (from -r requirements.txt (line 75)) (2.2.0)\n",
      "Collecting python-dateutil==2.6.1 (from -r requirements.txt (line 76))\n",
      "\u001b[?25l  Downloading https://files.pythonhosted.org/packages/4b/0d/7ed381ab4fe80b8ebf34411d14f253e1cf3e56e2820ffa1d8844b23859a2/python_dateutil-2.6.1-py2.py3-none-any.whl (194kB)\n",
      "\u001b[K    100% |████████████████████████████████| 194kB 22.6MB/s ta 0:00:01\n",
      "\u001b[?25hRequirement already satisfied: pytz==2018.4 in /Users/Stefan/.virtualenvs/word2vec-translate/lib/python3.6/site-packages (from -r requirements.txt (line 77)) (2018.4)\n",
      "Requirement already satisfied: PyYAML==3.12 in /Users/Stefan/.virtualenvs/word2vec-translate/lib/python3.6/site-packages (from -r requirements.txt (line 78)) (3.12)\n",
      "Requirement already satisfied: pyzmq==17.0.0 in /Users/Stefan/.virtualenvs/word2vec-translate/lib/python3.6/site-packages (from -r requirements.txt (line 79)) (17.0.0)\n",
      "Requirement already satisfied: qtconsole==4.3.1 in /Users/Stefan/.virtualenvs/word2vec-translate/lib/python3.6/site-packages (from -r requirements.txt (line 80)) (4.3.1)\n"
     ]
    },
    {
     "name": "stdout",
     "output_type": "stream",
     "text": [
      "Collecting regex==2017.4.5 (from -r requirements.txt (line 81))\n",
      "\u001b[?25l  Downloading https://files.pythonhosted.org/packages/36/62/c0c0d762ffd4ffaf39f372eb8561b8d491a11ace5a7884610424a8b40f95/regex-2017.04.05.tar.gz (601kB)\n",
      "\u001b[K    100% |████████████████████████████████| 604kB 26.7MB/s ta 0:00:01\n",
      "\u001b[?25hCollecting requests==2.18.4 (from -r requirements.txt (line 82))\n",
      "  Using cached https://files.pythonhosted.org/packages/49/df/50aa1999ab9bde74656c2919d9c0c085fd2b3775fd3eca826012bef76d8c/requests-2.18.4-py2.py3-none-any.whl\n",
      "Requirement already satisfied: rise==5.2.0 in /Users/Stefan/.virtualenvs/word2vec-translate/lib/python3.6/site-packages (from -r requirements.txt (line 83)) (5.2.0)\n",
      "Collecting rsa==3.4.2 (from -r requirements.txt (line 84))\n",
      "  Using cached https://files.pythonhosted.org/packages/e1/ae/baedc9cb175552e95f3395c43055a6a5e125ae4d48a1d7a924baca83e92e/rsa-3.4.2-py2.py3-none-any.whl\n",
      "Collecting s3transfer==0.1.13 (from -r requirements.txt (line 85))\n",
      "  Using cached https://files.pythonhosted.org/packages/d7/14/2a0004d487464d120c9fb85313a75cd3d71a7506955be458eebfe19a6b1d/s3transfer-0.1.13-py2.py3-none-any.whl\n",
      "Collecting scikit-learn==0.19.1 (from -r requirements.txt (line 86))\n",
      "  Using cached https://files.pythonhosted.org/packages/f0/5e/1e1576587c5a9e8de6771806a4cccea8decd268c988453cf35ccbf892929/scikit_learn-0.19.1-cp36-cp36m-macosx_10_6_intel.macosx_10_9_intel.macosx_10_9_x86_64.macosx_10_10_intel.macosx_10_10_x86_64.whl\n",
      "Requirement already satisfied: scipy==1.0.1 in /Users/Stefan/.virtualenvs/word2vec-translate/lib/python3.6/site-packages (from -r requirements.txt (line 87)) (1.0.1)\n",
      "Requirement already satisfied: seaborn==0.8.1 in /Users/Stefan/.virtualenvs/word2vec-translate/lib/python3.6/site-packages (from -r requirements.txt (line 88)) (0.8.1)\n",
      "Requirement already satisfied: Send2Trash==1.5.0 in /Users/Stefan/.virtualenvs/word2vec-translate/lib/python3.6/site-packages (from -r requirements.txt (line 89)) (1.5.0)\n",
      "Requirement already satisfied: simplegeneric==0.8.1 in /Users/Stefan/.virtualenvs/word2vec-translate/lib/python3.6/site-packages (from -r requirements.txt (line 90)) (0.8.1)\n",
      "Requirement already satisfied: six==1.11.0 in /Users/Stefan/.virtualenvs/word2vec-translate/lib/python3.6/site-packages (from -r requirements.txt (line 91)) (1.11.0)\n",
      "Collecting smart-open==1.5.7 (from -r requirements.txt (line 92))\n",
      "  Using cached https://files.pythonhosted.org/packages/4b/69/c92661a333f733510628f28b8282698b62cdead37291c8491f3271677c02/smart_open-1.5.7.tar.gz\n",
      "Collecting spacy==2.0.11 (from -r requirements.txt (line 93))\n",
      "\u001b[?25l  Downloading https://files.pythonhosted.org/packages/3c/31/e60f88751e48851b002f78a35221d12300783d5a43d4ef12fbf10cca96c3/spacy-2.0.11.tar.gz (17.6MB)\n",
      "\u001b[K    100% |████████████████████████████████| 17.6MB 1.6MB/s eta 0:00:01\n",
      "\u001b[?25hCollecting tables==3.4.2 (from -r requirements.txt (line 94))\n",
      "\u001b[?25l  Downloading https://files.pythonhosted.org/packages/c4/ba/01e29dbc8afc4872ebf2dbec4c8d97722f618df6221c904f2c0aec1176ff/tables-3.4.2-cp36-cp36m-macosx_10_6_intel.macosx_10_9_intel.macosx_10_9_x86_64.macosx_10_10_intel.macosx_10_10_x86_64.whl (6.6MB)\n",
      "\u001b[K    100% |████████████████████████████████| 6.7MB 5.1MB/s eta 0:00:01\n",
      "\u001b[?25hCollecting tensorboard==1.8.0 (from -r requirements.txt (line 95))\n",
      "\u001b[?25l  Downloading https://files.pythonhosted.org/packages/59/a6/0ae6092b7542cfedba6b2a1c9b8dceaf278238c39484f3ba03b03f07803c/tensorboard-1.8.0-py3-none-any.whl (3.1MB)\n",
      "\u001b[K    100% |████████████████████████████████| 3.1MB 8.1MB/s eta 0:00:01    60% |███████████████████▍            | 1.9MB 29.4MB/s eta 0:00:01\n",
      "\u001b[?25hCollecting tensorflow==1.8.0 (from -r requirements.txt (line 96))\n",
      "\u001b[?25l  Downloading https://files.pythonhosted.org/packages/03/ad/d732a5d9d50bfcd8aeb6e4a266065a8868829388e4e2b529ff689f1fc923/tensorflow-1.8.0-cp36-cp36m-macosx_10_11_x86_64.whl (46.5MB)\n",
      "\u001b[K    100% |████████████████████████████████| 46.5MB 564kB/s eta 0:00:01    80% |█████████████████████████▉      | 37.6MB 45.6MB/s eta 0:00:01\n",
      "\u001b[?25hRequirement already satisfied: termcolor==1.1.0 in /Users/Stefan/.virtualenvs/word2vec-translate/lib/python3.6/site-packages (from -r requirements.txt (line 97)) (1.1.0)\n",
      "Requirement already satisfied: terminado==0.8.1 in /Users/Stefan/.virtualenvs/word2vec-translate/lib/python3.6/site-packages (from -r requirements.txt (line 98)) (0.8.1)\n",
      "Requirement already satisfied: testpath==0.3.1 in /Users/Stefan/.virtualenvs/word2vec-translate/lib/python3.6/site-packages (from -r requirements.txt (line 99)) (0.3.1)\n",
      "Collecting thinc==6.10.2 (from -r requirements.txt (line 100))\n",
      "\u001b[?25l  Downloading https://files.pythonhosted.org/packages/55/fd/e9f36081e6f53699943381858848f3b4d759e0dd03c43b98807dde34c252/thinc-6.10.2.tar.gz (1.2MB)\n",
      "\u001b[K    100% |████████████████████████████████| 1.2MB 14.5MB/s ta 0:00:01\n",
      "\u001b[?25hCollecting toolz==0.9.0 (from -r requirements.txt (line 101))\n",
      "\u001b[?25l  Downloading https://files.pythonhosted.org/packages/14/d0/a73c15bbeda3d2e7b381a36afb0d9cd770a9f4adc5d1532691013ba881db/toolz-0.9.0.tar.gz (45kB)\n",
      "\u001b[K    100% |████████████████████████████████| 51kB 18.3MB/s ta 0:00:01\n",
      "\u001b[?25hRequirement already satisfied: tornado==5.0.2 in /Users/Stefan/.virtualenvs/word2vec-translate/lib/python3.6/site-packages (from -r requirements.txt (line 102)) (5.0.2)\n",
      "Collecting tqdm==4.23.0 (from -r requirements.txt (line 103))\n",
      "\u001b[?25l  Downloading https://files.pythonhosted.org/packages/78/bc/de067ab2d700b91717dc5459d86a1877e2df31abfb90ab01a5a5a5ce30b4/tqdm-4.23.0-py2.py3-none-any.whl (42kB)\n",
      "\u001b[K    100% |████████████████████████████████| 51kB 13.3MB/s ta 0:00:01\n",
      "\u001b[?25hRequirement already satisfied: traitlets==4.3.2 in /Users/Stefan/.virtualenvs/word2vec-translate/lib/python3.6/site-packages (from -r requirements.txt (line 104)) (4.3.2)\n",
      "Collecting ujson==1.35 (from -r requirements.txt (line 105))\n",
      "\u001b[?25l  Downloading https://files.pythonhosted.org/packages/16/c4/79f3409bc710559015464e5f49b9879430d8f87498ecdc335899732e5377/ujson-1.35.tar.gz (192kB)\n",
      "\u001b[K    100% |████████████████████████████████| 194kB 24.7MB/s ta 0:00:01\n",
      "\u001b[?25hCollecting urllib3==1.22 (from -r requirements.txt (line 106))\n",
      "  Using cached https://files.pythonhosted.org/packages/63/cb/6965947c13a94236f6d4b8223e21beb4d576dc72e8130bd7880f600839b8/urllib3-1.22-py2.py3-none-any.whl\n",
      "Requirement already satisfied: wcwidth==0.1.7 in /Users/Stefan/.virtualenvs/word2vec-translate/lib/python3.6/site-packages (from -r requirements.txt (line 107)) (0.1.7)\n",
      "Requirement already satisfied: Werkzeug==0.14.1 in /Users/Stefan/.virtualenvs/word2vec-translate/lib/python3.6/site-packages (from -r requirements.txt (line 108)) (0.14.1)\n",
      "Requirement already satisfied: widgetsnbextension==3.2.1 in /Users/Stefan/.virtualenvs/word2vec-translate/lib/python3.6/site-packages (from -r requirements.txt (line 109)) (3.2.1)\n",
      "Collecting wrapt==1.10.11 (from -r requirements.txt (line 110))\n",
      "  Downloading https://files.pythonhosted.org/packages/a0/47/66897906448185fcb77fc3c2b1bc20ed0ecca81a0f2f88eda3fc5a34fc3d/wrapt-1.10.11.tar.gz\n",
      "Requirement already satisfied: setuptools>=18.5 in /Users/Stefan/.virtualenvs/word2vec-translate/lib/python3.6/site-packages (from ipython==6.3.1->-r requirements.txt (line 28)) (28.8.0)\n",
      "Requirement already satisfied: appnope; sys_platform == \"darwin\" in /Users/Stefan/.virtualenvs/word2vec-translate/lib/python3.6/site-packages (from ipython==6.3.1->-r requirements.txt (line 28)) (0.1.0)\n",
      "Requirement already satisfied: wheel>=0.26; python_version >= \"3\" in /Users/Stefan/.virtualenvs/word2vec-translate/lib/python3.6/site-packages (from tensorboard==1.8.0->-r requirements.txt (line 95)) (0.31.0)\n",
      "Building wheels for collected packages: bz2file, cymem, cytoolz, dill, msgpack-python, murmurhash, pathlib, preshed, regex, smart-open, spacy, thinc, toolz, ujson, wrapt, en-core-web-sm, es-core-news-sm\n",
      "  Running setup.py bdist_wheel for bz2file ... \u001b[?25ldone\n",
      "\u001b[?25h  Stored in directory: /Users/Stefan/Library/Caches/pip/wheels/81/75/d6/e1317bf09bf1af5a30befc2a007869fa6e1f516b8f7c591cb9\n",
      "  Running setup.py bdist_wheel for cymem ... \u001b[?25ldone\n",
      "\u001b[?25h  Stored in directory: /Users/Stefan/Library/Caches/pip/wheels/55/8d/4a/f6328252aa2aaec0b1cb906fd96a1566d77f0f67701071ad13\n",
      "  Running setup.py bdist_wheel for cytoolz ... \u001b[?25ldone\n",
      "\u001b[?25h  Stored in directory: /Users/Stefan/Library/Caches/pip/wheels/f8/b1/86/c92e4d36b690208fff8471711b85eaa6bc6d19860a86199a09\n",
      "  Running setup.py bdist_wheel for dill ... \u001b[?25ldone\n",
      "\u001b[?25h  Stored in directory: /Users/Stefan/Library/Caches/pip/wheels/99/c4/ed/1b64d2d5809e60d5a3685530432f6159d6a9959739facb61f2\n",
      "  Running setup.py bdist_wheel for msgpack-python ... \u001b[?25ldone\n",
      "\u001b[?25h  Stored in directory: /Users/Stefan/Library/Caches/pip/wheels/d5/de/86/7fa56fda12511be47ea0808f3502bc879df4e63ab168ec0406\n",
      "  Running setup.py bdist_wheel for murmurhash ... \u001b[?25ldone\n",
      "\u001b[?25h  Stored in directory: /Users/Stefan/Library/Caches/pip/wheels/b8/94/a4/f69f8664cdc1098603df44771b7fec5fd1b3d8364cdd83f512\n",
      "  Running setup.py bdist_wheel for pathlib ... \u001b[?25ldone\n",
      "\u001b[?25h  Stored in directory: /Users/Stefan/Library/Caches/pip/wheels/f9/b2/4a/68efdfe5093638a9918bd1bb734af625526e849487200aa171\n",
      "  Running setup.py bdist_wheel for preshed ... \u001b[?25ldone\n",
      "\u001b[?25h  Stored in directory: /Users/Stefan/Library/Caches/pip/wheels/8f/85/06/2d132fb649a6bbcab22487e4147880a55b0dd0f4b18fdfd6b5\n",
      "  Running setup.py bdist_wheel for regex ... \u001b[?25ldone\n",
      "\u001b[?25h  Stored in directory: /Users/Stefan/Library/Caches/pip/wheels/75/07/38/3c16b529d50cb4e0cd3dbc7b75cece8a09c132692c74450b01\n",
      "  Running setup.py bdist_wheel for smart-open ... \u001b[?25ldone\n",
      "\u001b[?25h  Stored in directory: /Users/Stefan/Library/Caches/pip/wheels/b1/9e/7d/bb3d3b55c597e72617140a0638c06382a5f17283881eae163e\n",
      "  Running setup.py bdist_wheel for spacy ... \u001b[?25ldone\n",
      "\u001b[?25h  Stored in directory: /Users/Stefan/Library/Caches/pip/wheels/fb/00/28/75c85d5135e7d9a100639137d1847d41e914ed16c962d467e4\n",
      "  Running setup.py bdist_wheel for thinc ... \u001b[?25ldone\n",
      "\u001b[?25h  Stored in directory: /Users/Stefan/Library/Caches/pip/wheels/d8/5c/3e/9acf5d9974fb1c9e7b467563ea5429c9325f67306e93147961\n",
      "  Running setup.py bdist_wheel for toolz ... \u001b[?25ldone\n",
      "\u001b[?25h  Stored in directory: /Users/Stefan/Library/Caches/pip/wheels/f4/0c/f6/ce6b2d1aa459ee97cc3c0f82236302bd62d89c86c700219463\n",
      "  Running setup.py bdist_wheel for ujson ... \u001b[?25ldone\n",
      "\u001b[?25h  Stored in directory: /Users/Stefan/Library/Caches/pip/wheels/28/77/e4/0311145b9c2e2f01470e744855131f9e34d6919687550f87d1\n",
      "  Running setup.py bdist_wheel for wrapt ... \u001b[?25ldone\n",
      "\u001b[?25h  Stored in directory: /Users/Stefan/Library/Caches/pip/wheels/48/5d/04/22361a593e70d23b1f7746d932802efe1f0e523376a74f321e\n",
      "  Running setup.py bdist_wheel for en-core-web-sm ... \u001b[?25ldone\n",
      "\u001b[?25h  Stored in directory: /Users/Stefan/Library/Caches/pip/wheels/54/7c/d8/f86364af8fbba7258e14adae115f18dd2c91552406edc3fdaa\n",
      "  Running setup.py bdist_wheel for es-core-news-sm ... \u001b[?25ldone\n",
      "\u001b[?25h  Stored in directory: /Users/Stefan/Library/Caches/pip/wheels/9e/28/c4/df4980946eb229379ed26d349566e427fa029dbf03546ccb94\n",
      "Successfully built bz2file cymem cytoolz dill msgpack-python murmurhash pathlib preshed regex smart-open spacy thinc toolz ujson wrapt en-core-web-sm es-core-news-sm\n",
      "Installing collected packages: boto, python-dateutil, jmespath, docutils, botocore, s3transfer, boto3, bz2file, cachetools, certifi, chardet, cymem, Cython, toolz, cytoolz, dill, urllib3, idna, requests, smart-open, gensim, h5py, msgpack-python, msgpack-numpy, murmurhash, numexpr, pathlib, plac, preshed, pyasn1, pyasn1-modules, pybind11, regex, rsa, scikit-learn, wrapt, tqdm, thinc, ujson, spacy, tables, tensorboard, tensorflow, en-core-web-sm, es-core-news-sm\n",
      "  Found existing installation: python-dateutil 2.7.2\n",
      "    Uninstalling python-dateutil-2.7.2:\n",
      "      Successfully uninstalled python-dateutil-2.7.2\n",
      "  Found existing installation: tensorboard 1.7.0\n",
      "    Uninstalling tensorboard-1.7.0:\n",
      "      Successfully uninstalled tensorboard-1.7.0\n",
      "  Found existing installation: tensorflow 1.7.0\n",
      "    Uninstalling tensorflow-1.7.0:\n",
      "      Successfully uninstalled tensorflow-1.7.0\n",
      "Successfully installed Cython-0.28.2 boto-2.48.0 boto3-1.7.4 botocore-1.10.4 bz2file-0.98 cachetools-2.0.1 certifi-2018.4.16 chardet-3.0.4 cymem-1.31.2 cytoolz-0.8.2 dill-0.2.7.1 docutils-0.14 en-core-web-sm-2.0.0 es-core-news-sm-2.0.0 gensim-3.4.0 h5py-2.7.1 idna-2.6 jmespath-0.9.3 msgpack-numpy-0.4.1 msgpack-python-0.5.6 murmurhash-0.28.0 numexpr-2.6.4 pathlib-1.0.1 plac-0.9.6 preshed-1.0.0 pyasn1-0.4.2 pyasn1-modules-0.2.1 pybind11-2.2.2 python-dateutil-2.6.1 regex-2017.4.5 requests-2.18.4 rsa-3.4.2 s3transfer-0.1.13 scikit-learn-0.19.1 smart-open-1.5.7 spacy-2.0.11 tables-3.4.2 tensorboard-1.8.0 tensorflow-1.8.0 thinc-6.10.2 toolz-0.9.0 tqdm-4.23.0 ujson-1.35 urllib3-1.22 wrapt-1.10.11\n",
      "\u001b[33mYou are using pip version 10.0.0, however version 10.0.1 is available.\n",
      "You should consider upgrading via the 'pip install --upgrade pip' command.\u001b[0m\n"
     ]
    }
   ],
   "source": [
    "import sys\n",
    "!{sys.executable} -m pip install -r requirements.txt"
   ]
  },
  {
   "cell_type": "markdown",
   "metadata": {
    "slideshow": {
     "slide_type": "slide"
    }
   },
   "source": [
    "## Link Language Models"
   ]
  },
  {
   "cell_type": "code",
   "execution_count": 8,
   "metadata": {
    "ExecuteTime": {
     "end_time": "2018-05-01T04:36:50.436433Z",
     "start_time": "2018-05-01T04:36:45.644680Z"
    },
    "slideshow": {
     "slide_type": "fragment"
    }
   },
   "outputs": [
    {
     "name": "stdout",
     "output_type": "stream",
     "text": [
      "Collecting https://github.com/explosion/spacy-models/releases/download/es_core_news_sm-2.0.0/es_core_news_sm-2.0.0.tar.gz\n",
      "\u001b[?25l  Downloading https://github.com/explosion/spacy-models/releases/download/es_core_news_sm-2.0.0/es_core_news_sm-2.0.0.tar.gz (36.7MB)\n",
      "\u001b[K    100% |████████████████████████████████| 36.7MB 11.8MB/s ta 0:00:011\n",
      "\u001b[?25hRequirement already satisfied (use --upgrade to upgrade): es-core-news-sm==2.0.0 from https://github.com/explosion/spacy-models/releases/download/es_core_news_sm-2.0.0/es_core_news_sm-2.0.0.tar.gz in /Users/Stefan/.virtualenvs/word2vec-translate/lib/python3.6/site-packages\n",
      "\u001b[33mYou are using pip version 10.0.0, however version 10.0.1 is available.\n",
      "You should consider upgrading via the 'pip install --upgrade pip' command.\u001b[0m\n",
      "\n",
      "\u001b[93m    Linking successful\u001b[0m\n",
      "    /Users/Stefan/.virtualenvs/word2vec-translate/lib/python3.6/site-packages/es_core_news_sm\n",
      "    -->\n",
      "    /Users/Stefan/.virtualenvs/word2vec-translate/lib/python3.6/site-packages/spacy/data/es_core_news_sm\n",
      "\n",
      "    You can now load the model via spacy.load('es_core_news_sm')\n",
      "\n",
      "\n",
      "\u001b[93m    Linking successful\u001b[0m\n",
      "    /Users/Stefan/.virtualenvs/word2vec-translate/lib/python3.6/site-packages/es_core_news_sm\n",
      "    -->\n",
      "    /Users/Stefan/.virtualenvs/word2vec-translate/lib/python3.6/site-packages/spacy/data/es\n",
      "\n",
      "    You can now load the model via spacy.load('es')\n",
      "\n"
     ]
    }
   ],
   "source": [
    "!{sys.executable} -m spacy link es_core_news_sm es\n",
    "!{sys.executable} -m spacy link en_core_web_sm en"
   ]
  },
  {
   "cell_type": "markdown",
   "metadata": {
    "slideshow": {
     "slide_type": "slide"
    }
   },
   "source": [
    "## Validate Installation"
   ]
  },
  {
   "cell_type": "code",
   "execution_count": 9,
   "metadata": {
    "ExecuteTime": {
     "end_time": "2018-05-01T04:36:52.884096Z",
     "start_time": "2018-05-01T04:36:52.060365Z"
    },
    "slideshow": {
     "slide_type": "fragment"
    }
   },
   "outputs": [
    {
     "name": "stdout",
     "output_type": "stream",
     "text": [
      "\r\n",
      "\u001b[93m    Installed models (spaCy v2.0.11)\u001b[0m\r\n",
      "    /Users/Stefan/.virtualenvs/word2vec-translate/lib/python3.6/site-packages/spacy\r\n",
      "\r\n",
      "    TYPE        NAME                  MODEL                 VERSION                                   \r\n",
      "    package     es-core-news-sm       es_core_news_sm       \u001b[38;5;2m2.0.0\u001b[0m    \u001b[38;5;2m✔\u001b[0m      \r\n",
      "    package     en-core-web-sm        en_core_web_sm        \u001b[38;5;2m2.0.0\u001b[0m    \u001b[38;5;2m✔\u001b[0m      \r\n",
      "    link        en_core_web_sm        en_core_web_sm        \u001b[38;5;2m2.0.0\u001b[0m    \u001b[38;5;2m✔\u001b[0m      \r\n",
      "    link        es                    es_core_news_sm       \u001b[38;5;2m2.0.0\u001b[0m    \u001b[38;5;2m✔\u001b[0m      \r\n",
      "    link        en                    en_core_web_sm        \u001b[38;5;2m2.0.0\u001b[0m    \u001b[38;5;2m✔\u001b[0m      \r\n",
      "    link        es_core_news_sm       es_core_news_sm       \u001b[38;5;2m2.0.0\u001b[0m    \u001b[38;5;2m✔\u001b[0m      \r\n"
     ]
    }
   ],
   "source": [
    "!python -m spacy validate"
   ]
  }
 ],
 "metadata": {
  "celltoolbar": "Slideshow",
  "kernelspec": {
   "display_name": "Python 3",
   "language": "python",
   "name": "python3"
  },
  "language_info": {
   "codemirror_mode": {
    "name": "ipython",
    "version": 3
   },
   "file_extension": ".py",
   "mimetype": "text/x-python",
   "name": "python",
   "nbconvert_exporter": "python",
   "pygments_lexer": "ipython3",
   "version": "3.6.1"
  },
  "toc": {
   "base_numbering": 1,
   "nav_menu": {},
   "number_sections": true,
   "sideBar": true,
   "skip_h1_title": false,
   "title_cell": "Table of Contents",
   "title_sidebar": "Contents",
   "toc_cell": false,
   "toc_position": {},
   "toc_section_display": true,
   "toc_window_display": true
  }
 },
 "nbformat": 4,
 "nbformat_minor": 2
}
